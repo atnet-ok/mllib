{
 "cells": [
  {
   "cell_type": "code",
   "execution_count": null,
   "metadata": {},
   "outputs": [],
   "source": [
    "import subprocess\n",
    "from mllib.src.utils import *\n",
    "from mllib.src.config import *"
   ]
  },
  {
   "cell_type": "code",
   "execution_count": null,
   "metadata": {},
   "outputs": [],
   "source": [
    "cfg_dafault = get_config('config/000_default.yaml')\n",
    "print(cfg_dafault)"
   ]
  },
  {
   "cell_type": "code",
   "execution_count": null,
   "metadata": {},
   "outputs": [],
   "source": [
    "experiment_name = 'sweep_lr'\n",
    "lr_s = [1e-3,1e-4,1e-5]\n",
    "for lr in lr_s:\n",
    "    run_id = date2str()\n",
    "    cfg_dafault.train.lr = lr\n",
    "    save_config(cfg_dafault,run_id,save_dir='config/')\n",
    "    command = f'python mllib/run.py -run {run_id} -exp {experiment_name}'\n",
    "    subprocess.run(command.split(' '))"
   ]
  }
 ],
 "metadata": {
  "kernelspec": {
   "display_name": ".venv",
   "language": "python",
   "name": "python3"
  },
  "language_info": {
   "codemirror_mode": {
    "name": "ipython",
    "version": 3
   },
   "file_extension": ".py",
   "mimetype": "text/x-python",
   "name": "python",
   "nbconvert_exporter": "python",
   "pygments_lexer": "ipython3",
   "version": "3.9.10"
  },
  "orig_nbformat": 4,
  "vscode": {
   "interpreter": {
    "hash": "c73033d293e85b53b6a59ccfaf462446bde8d87fe5cd12ed66b5bf98d28eda06"
   }
  }
 },
 "nbformat": 4,
 "nbformat_minor": 2
}
