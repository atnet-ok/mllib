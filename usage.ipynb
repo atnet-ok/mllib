{
 "cells": [
  {
   "cell_type": "code",
   "execution_count": 1,
   "metadata": {},
   "outputs": [],
   "source": [
    "import subprocess\n",
    "from mllib.src.utils import *\n",
    "from mllib.src.config import *"
   ]
  },
  {
   "cell_type": "code",
   "execution_count": 2,
   "metadata": {},
   "outputs": [
    {
     "name": "stdout",
     "output_type": "stream",
     "text": [
      "config(model=model_cfg(name='resnet50', pre_train=True, in_chans=1, model_trained=''), data=data_cfg(name='MNIST', batch_size_train=128, batch_size_eval=128, class_num=10, data_size=28, domain_src=None, domain_trg=None), train=train_cfg(name='DeepLerning', seed=42, epoch=3, optimizer='sgd', lr=0.001, wd=0.0, momentum=0.9, device='cuda:0', amp=True, scheduler='none'))\n",
      "config(model=model_cfg(name='resnet50', pre_train=True, in_chans=1, model_trained=''), data=data_cfg(name='MNIST', batch_size_train=128, batch_size_eval=128, class_num=10, data_size=28, domain_src=None, domain_trg=None), train=train_cfg(name='DeepLerning', seed=42, epoch=3, optimizer='sgd', lr=0.0002, wd=0.0, momentum=0.9, device='cuda:0', amp=True, scheduler='none'))\n"
     ]
    },
    {
     "data": {
      "text/plain": [
       "'config/database/20230103_2144_17.yaml'"
      ]
     },
     "execution_count": 2,
     "metadata": {},
     "output_type": "execute_result"
    }
   ],
   "source": [
    "run_id = date2str()\n",
    "\n",
    "cfg_dafault = get_config('config/default.yaml')\n",
    "print(cfg_dafault)\n",
    "cfg_dafault.train.lr = 2e-4\n",
    "print(cfg_dafault)\n",
    "save_config(cfg_dafault,run_id)"
   ]
  },
  {
   "cell_type": "code",
   "execution_count": 3,
   "metadata": {},
   "outputs": [
    {
     "name": "stdout",
     "output_type": "stream",
     "text": [
      "--------------------------------------\n",
      "Epoch 1\n",
      "training...\n",
      "accuracy:0.173375\n",
      "loss_total:2.2648495076497395\n",
      "evaluating...\n",
      "accuracy:0.26358333333333334\n",
      "loss_total:2.2476790991235287\n",
      "--------------------------------------\n",
      "Epoch 2\n",
      "training...\n",
      "accuracy:0.30370833333333336\n",
      "loss_total:2.1736731567382814\n",
      "evaluating...\n",
      "accuracy:0.37125\n",
      "loss_total:2.1979928397117776\n",
      "--------------------------------------\n",
      "Epoch 3\n",
      "training...\n",
      "accuracy:0.3870208333333333\n",
      "loss_total:2.0770049883524577\n",
      "evaluating...\n",
      "accuracy:0.44633333333333336\n",
      "loss_total:2.054462675084459\n",
      "accuracy:0.44633333333333336\n",
      "loss_total:2.054462675084459\n"
     ]
    },
    {
     "data": {
      "text/plain": [
       "CompletedProcess(args=['python', 'mllib/run.py', '-id', '20230103_2144_17', '-m', 'train'], returncode=0)"
      ]
     },
     "execution_count": 3,
     "metadata": {},
     "output_type": "execute_result"
    }
   ],
   "source": [
    "command = f'python mllib/run.py -id {run_id} -m train'\n",
    "subprocess.run(command.split(' '))"
   ]
  }
 ],
 "metadata": {
  "kernelspec": {
   "display_name": ".venv",
   "language": "python",
   "name": "python3"
  },
  "language_info": {
   "codemirror_mode": {
    "name": "ipython",
    "version": 3
   },
   "file_extension": ".py",
   "mimetype": "text/x-python",
   "name": "python",
   "nbconvert_exporter": "python",
   "pygments_lexer": "ipython3",
   "version": "3.9.10"
  },
  "orig_nbformat": 4,
  "vscode": {
   "interpreter": {
    "hash": "c73033d293e85b53b6a59ccfaf462446bde8d87fe5cd12ed66b5bf98d28eda06"
   }
  }
 },
 "nbformat": 4,
 "nbformat_minor": 2
}
