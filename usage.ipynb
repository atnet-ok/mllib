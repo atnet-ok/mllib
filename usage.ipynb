{
 "cells": [
  {
   "cell_type": "code",
   "execution_count": 1,
   "metadata": {},
   "outputs": [],
   "source": [
    "import subprocess\n"
   ]
  },
  {
   "cell_type": "code",
   "execution_count": 2,
   "metadata": {},
   "outputs": [
    {
     "name": "stdout",
     "output_type": "stream",
     "text": [
      "log/000_default.log\n"
     ]
    },
    {
     "name": "stderr",
     "output_type": "stream",
     "text": [
      "------------------------------\n",
      "Now Starting 000_test\n",
      "run id is 000_default\n",
      "config(model=model_cfg(name='tf_efficientnet_b7', pre_train=True, in_chans=3, model_trained=None, other=None), data=data_cfg(name='OfficeHome', batch_size_train=32, batch_size_eval=32, class_num=65, data_size=224, eval_rate=None, other={'a': 1, 'b': 2}), train=train_cfg(name='DLTrainer', task='classification', seed=42, epoch=3, optimizer='adam', lr=0.0004, wd=0.0001, momentum=0.9, device='cuda:0', amp=True, scheduler='cosine_warmup', method=None, other=None))\n",
      "Traceback (most recent call last):\n",
      "  File \"/home/atnet/workspace/env1/20230802_mllib/mllib/run.py\", line 23, in <module>\n",
      "    manager.start_experiment(cfg, logger)\n",
      "  File \"/home/atnet/workspace/env1/20230802_mllib/mllib/src/manager.py\", line 35, in start_experiment\n",
      "    trainer.train()\n",
      "  File \"/home/atnet/workspace/env1/20230802_mllib/mllib/src/trainer.py\", line 126, in train\n",
      "    dataset_train = get_dataset(self.cfg,phase='train')\n",
      "  File \"/home/atnet/workspace/env1/20230802_mllib/mllib/src/data.py\", line 173, in get_dataset\n",
      "    dataset = OfficeHome(\n",
      "  File \"/home/atnet/workspace/env1/20230802_mllib/mllib/src/data.py\", line 81, in __init__\n",
      "    self.transform = get_transform(img_size,phase=phase)\n",
      "  File \"/home/atnet/workspace/env1/20230802_mllib/mllib/src/preprocess.py\", line 52, in get_transform\n",
      "    transform = transforms.Compose([\n",
      "UnboundLocalError: local variable 'transforms' referenced before assignment\n"
     ]
    },
    {
     "data": {
      "text/plain": [
       "CompletedProcess(args=['python', 'mllib/run.py'], returncode=1)"
      ]
     },
     "execution_count": 2,
     "metadata": {},
     "output_type": "execute_result"
    }
   ],
   "source": [
    "run_name = \"000_default\"\n",
    "command = f'python mllib/run.py'\n",
    "subprocess.run(command.split(' '))"
   ]
  },
  {
   "cell_type": "code",
   "execution_count": 3,
   "metadata": {},
   "outputs": [],
   "source": [
    "# cfg_dafault = get_config('config/000_default.yaml')\n",
    "# print(cfg_dafault)"
   ]
  },
  {
   "cell_type": "code",
   "execution_count": 4,
   "metadata": {},
   "outputs": [],
   "source": [
    "# experiment_name = 'sweep_lr'\n",
    "# lr_s = [1e-3,1e-4,1e-5]\n",
    "# for lr in lr_s:\n",
    "#     run_id = date2str()\n",
    "#     cfg_dafault.train.lr = lr\n",
    "#     save_config(cfg_dafault, run_id, save_dir='config/')\n",
    "#     command = f'python mllib/run.py -run {run_id} -exp {experiment_name}'\n",
    "#     subprocess.run(command.split(' '))"
   ]
  }
 ],
 "metadata": {
  "kernelspec": {
   "display_name": ".venv",
   "language": "python",
   "name": "python3"
  },
  "language_info": {
   "codemirror_mode": {
    "name": "ipython",
    "version": 3
   },
   "file_extension": ".py",
   "mimetype": "text/x-python",
   "name": "python",
   "nbconvert_exporter": "python",
   "pygments_lexer": "ipython3",
   "version": "3.9.15"
  },
  "orig_nbformat": 4,
  "vscode": {
   "interpreter": {
    "hash": "c73033d293e85b53b6a59ccfaf462446bde8d87fe5cd12ed66b5bf98d28eda06"
   }
  }
 },
 "nbformat": 4,
 "nbformat_minor": 2
}
