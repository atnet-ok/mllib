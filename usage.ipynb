{
 "cells": [
  {
   "cell_type": "code",
   "execution_count": 1,
   "metadata": {},
   "outputs": [],
   "source": [
    "import subprocess\n",
    "from mllib.src.utils import *\n",
    "from mllib.src.config import *"
   ]
  },
  {
   "cell_type": "code",
   "execution_count": 2,
   "metadata": {},
   "outputs": [
    {
     "name": "stdout",
     "output_type": "stream",
     "text": [
      "config(model=model_cfg(name='resnet50', pre_train=True, in_chans=1), data=data_cfg(name='MNIST', batch_size_train=128, batch_size_eval=128, class_num=10, data_size=28), train=train_cfg(name='DeepLerning', epoch=3, optimizer='sgd', lr=0.0001, wd=0.0001, device='cuda:0', test='hoge'))\n",
      "config(model=model_cfg(name='resnet50', pre_train=True, in_chans=1), data=data_cfg(name='MNIST', batch_size_train=128, batch_size_eval=128, class_num=10, data_size=28), train=train_cfg(name='DeepLerning', epoch=3, optimizer='sgd', lr=0.0002, wd=0.0001, device='cuda:0', test='hoge'))\n"
     ]
    }
   ],
   "source": [
    "cfg_dafault = get_config()\n",
    "print(cfg_dafault)\n",
    "cfg_dafault.train.lr = 2e-4\n",
    "print(cfg_dafault)\n",
    "save_path = save_config(cfg_dafault)"
   ]
  },
  {
   "cell_type": "code",
   "execution_count": 3,
   "metadata": {},
   "outputs": [
    {
     "data": {
      "text/plain": [
       "'20230102_133316'"
      ]
     },
     "execution_count": 3,
     "metadata": {},
     "output_type": "execute_result"
    }
   ],
   "source": []
  }
 ],
 "metadata": {
  "kernelspec": {
   "display_name": ".venv",
   "language": "python",
   "name": "python3"
  },
  "language_info": {
   "codemirror_mode": {
    "name": "ipython",
    "version": 3
   },
   "file_extension": ".py",
   "mimetype": "text/x-python",
   "name": "python",
   "nbconvert_exporter": "python",
   "pygments_lexer": "ipython3",
   "version": "3.9.10"
  },
  "orig_nbformat": 4,
  "vscode": {
   "interpreter": {
    "hash": "c73033d293e85b53b6a59ccfaf462446bde8d87fe5cd12ed66b5bf98d28eda06"
   }
  }
 },
 "nbformat": 4,
 "nbformat_minor": 2
}
